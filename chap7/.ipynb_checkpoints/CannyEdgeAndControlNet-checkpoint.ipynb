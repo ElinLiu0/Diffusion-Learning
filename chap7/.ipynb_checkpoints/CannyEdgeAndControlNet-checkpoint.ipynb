{
 "cells": [
  {
   "cell_type": "markdown",
   "metadata": {},
   "source": [
    "### ControlNet+Canny Edge：实现利用边缘检测进行Diffusion"
   ]
  },
  {
   "cell_type": "code",
   "execution_count": null,
   "metadata": {},
   "outputs": [],
   "source": [
    "import os\n",
    "os.environ['http_proxy'] = 'http://192.168.31.29:9032'\n",
    "os.environ['https_proxy'] = 'http://192.168.31.29:9032'\n",
    "os.environ['all_proxy'] = 'socks5://192.168.31.29:9032'"
   ]
  },
  {
   "cell_type": "code",
   "execution_count": null,
   "metadata": {},
   "outputs": [],
   "source": [
    "# 导入依赖\n",
    "from diffusers import StableDiffusionControlNetPipeline\n",
    "from diffusers.utils import load_image\n",
    "\n",
    "image = load_image(\n",
    "    'input_image_vermeer.png'\n",
    ")\n",
    "image"
   ]
  },
  {
   "cell_type": "code",
   "execution_count": null,
   "metadata": {},
   "outputs": [],
   "source": [
    "# 利用OpenCV的CannyEdge检测检测金发少女的边缘\n",
    "import cv2\n",
    "from PIL import Image\n",
    "import numpy as np\n",
    "\n",
    "image = np.array(image)\n",
    "\n",
    "low_threshold = 100\n",
    "high_threshold = 200\n",
    "\n",
    "image = cv2.Canny(image, low_threshold, high_threshold)\n",
    "image = image[:,:,None]\n",
    "image = np.concatenate([image, image, image], axis=2)\n",
    "canny_image = Image.fromarray(image)\n",
    "canny_image"
   ]
  },
  {
   "cell_type": "code",
   "execution_count": null,
   "metadata": {},
   "outputs": [],
   "source": [
    "# 接下来，交给ControlNet进行处理\n",
    "from diffusers import StableDiffusionControlNetPipeline,ControlNetModel\n",
    "import torch\n",
    "\n",
    "controlnet = ControlNetModel.from_pretrained(\n",
    "    \"lllyasviel/sd-controlnet-canny\",\n",
    "    torchdtype=torch.float16\n",
    ").to(\"cuda\")"
   ]
  },
  {
   "cell_type": "code",
   "execution_count": null,
   "metadata": {},
   "outputs": [],
   "source": [
    "pipe = StableDiffusionControlNetPipeline.from_pretrained(\n",
    "    \"runwayml/stable-diffusion-v1-5\",\n",
    "    controlnet=controlnet,\n",
    "    torchdtype=torch.float16\n",
    ").to(\"cuda\")"
   ]
  },
  {
   "cell_type": "code",
   "execution_count": null,
   "metadata": {},
   "outputs": [],
   "source": [
    "# 添加UniPCMultistep调度器\n",
    "from diffusers import UniPCMultistepScheduler\n",
    "pipe.scheduler = UniPCMultistepScheduler.from_config(\n",
    "    pipe.scheduler.config\n",
    ")"
   ]
  },
  {
   "cell_type": "code",
   "execution_count": null,
   "metadata": {},
   "outputs": [],
   "source": [
    "# 定义生成函数\n",
    "def image_grid(imgs,rows,cols):\n",
    "    assert len(imgs) == rows*cols\n",
    "\n",
    "    w,h = imgs[0].size\n",
    "    grid = Image.new('RGB', size=(cols*w,rows*h))\n",
    "    grid_w,grid_h = grid.size\n",
    "\n",
    "    for i,img in enumerate(imgs):\n",
    "        grid.paste(img, box=(i%cols*w, i//cols*h))\n",
    "    return grid"
   ]
  },
  {
   "cell_type": "code",
   "execution_count": null,
   "metadata": {},
   "outputs": [],
   "source": [
    "# 定义生成提示词\n",
    "prompt = \", best quality,extremely detailed\""
   ]
  },
  {
   "cell_type": "code",
   "execution_count": null,
   "metadata": {},
   "outputs": [],
   "source": [
    "prompt = [t + prompt for t in ['Sandra Oh','Kim Kardashian','rihanna','Taylor Swift']]\n",
    "generator = [torch.Generator(device='cuda').manual_seed(2) for i in range(len(prompt))]"
   ]
  },
  {
   "cell_type": "code",
   "execution_count": null,
   "metadata": {},
   "outputs": [],
   "source": [
    "output = pipe(\n",
    "    prompt,\n",
    "    canny_image,\n",
    "    negative_prompt=['monochrome,lowres,bad anatomy,worst quality,low quality'] * len(prompt),\n",
    "    generator=generator,\n",
    "    num_inference_steps=20\n",
    ")"
   ]
  },
  {
   "cell_type": "code",
   "execution_count": null,
   "metadata": {},
   "outputs": [],
   "source": [
    "image_grid(output.images,2,2)"
   ]
  },
  {
   "cell_type": "markdown",
   "metadata": {},
   "source": [
    "### 利用Control Net实现姿态检测"
   ]
  },
  {
   "cell_type": "code",
   "execution_count": null,
   "metadata": {},
   "outputs": [],
   "source": [
    "urls = [\n",
    "    \"yoga1.jpeg\",\n",
    "    \"yoga2.jpeg\",\n",
    "    \"yoga3.jpeg\",\n",
    "    \"yoga4.jpeg\",\n",
    "]\n",
    "imgs = [\n",
    "    load_image(url) for url in urls\n",
    "]\n",
    "image_grid(imgs,2,2)"
   ]
  },
  {
   "cell_type": "code",
   "execution_count": null,
   "metadata": {},
   "outputs": [],
   "source": [
    "from controlnet_aux import OpenposeDetector\n",
    "model = OpenposeDetector.from_pretrained(\n",
    "    \"lllyasviel/ControlNet\")\n",
    "poses = [model(img) for img in imgs]\n",
    "image_grid(poses,2,2)"
   ]
  },
  {
   "cell_type": "code",
   "execution_count": null,
   "metadata": {},
   "outputs": [],
   "source": [
    "# 见证奇迹的时刻到了！将这些姿态映射到超级英雄上会发生什么？\n",
    "controlnet = ControlNetModel.from_pretrained(\n",
    "    \"fusing/stable-diffusion-v1-5-controlnet-openpose\",\n",
    "    torchdtype=torch.float16\n",
    ").to(\"cuda\")\n",
    "model_id = \"runwayml/stable-diffusion-v1-5\"\n",
    "pipe = StableDiffusionControlNetPipeline.from_pretrained(\n",
    "    model_id,\n",
    "    controlnet=controlnet,\n",
    "    torchdtype=torch.float16\n",
    ").to(\"cuda\")\n",
    "pipe.scheduler = UniPCMultistepScheduler.from_config(\n",
    "    pipe.scheduler.config\n",
    ")\n",
    "# 启动CPU Offload\n",
    "pipe.enable_model_cpu_offload()\n",
    "# 启用xformers\n",
    "pipe.enable_xformers_memory_efficient_attention()\n",
    "generator = [torch.Generator(device='cuda').manual_seed(2) for i in range(4)]\n",
    "prompt = \"super-hero,character,best quality,extremely detailed\""
   ]
  },
  {
   "cell_type": "code",
   "execution_count": null,
   "metadata": {},
   "outputs": [],
   "source": [
    "output = pipe(\n",
    "    [prompt] * 4,\n",
    "    poses,\n",
    "    negative_prompt=['monochrome,lowres,bad anatomy,worst quality,low quality'] * 4,\n",
    "    generator=generator,\n",
    "    num_inference_steps=20\n",
    ")"
   ]
  },
  {
   "cell_type": "code",
   "execution_count": null,
   "metadata": {},
   "outputs": [],
   "source": []
  }
 ],
 "metadata": {
  "kernelspec": {
   "display_name": "hugging",
   "language": "python",
   "name": "python3"
  },
  "language_info": {
   "codemirror_mode": {
    "name": "ipython",
    "version": 3
   },
   "file_extension": ".py",
   "mimetype": "text/x-python",
   "name": "python",
   "nbconvert_exporter": "python",
   "pygments_lexer": "ipython3",
   "version": "3.11.3"
  },
  "orig_nbformat": 4
 },
 "nbformat": 4,
 "nbformat_minor": 2
}
